{
 "cells": [
  {
   "cell_type": "markdown",
   "metadata": {},
   "source": [
    "## Work\n",
    "請結合前面的知識與程式碼，比較不同的 regularization 的組合對訓練的結果與影響：如 dropout, regularizers, batch-normalization 等"
   ]
  },
  {
   "cell_type": "code",
   "execution_count": 1,
   "metadata": {},
   "outputs": [
    {
     "name": "stderr",
     "output_type": "stream",
     "text": [
      "Using TensorFlow backend.\n"
     ]
    }
   ],
   "source": [
    "import os\n",
    "import keras\n",
    "import itertools\n",
    "# Disable GPU\n",
    "os.environ[\"CUDA_VISIBLE_DEVICES\"] = \"\"\n",
    "import tensorflow as tf\n",
    "from keras.backend.tensorflow_backend import set_session\n",
    "config = tf.ConfigProto()\n",
    "config.gpu_options.allow_growth = True\n",
    "sess = tf.Session(config=config)\n",
    "set_session(sess)  "
   ]
  },
  {
   "cell_type": "code",
   "execution_count": 2,
   "metadata": {},
   "outputs": [],
   "source": [
    "train, test = keras.datasets.cifar10.load_data()"
   ]
  },
  {
   "cell_type": "code",
   "execution_count": 3,
   "metadata": {},
   "outputs": [],
   "source": [
    "## 資料前處理\n",
    "def preproc_x(x, flatten=True):\n",
    "    x = x / 255.\n",
    "    if flatten:\n",
    "        x = x.reshape((len(x), -1))\n",
    "    return x\n",
    "\n",
    "def preproc_y(y, num_classes=10):\n",
    "    if y.shape[-1] == 1:\n",
    "        y = keras.utils.to_categorical(y, num_classes)\n",
    "    return y    "
   ]
  },
  {
   "cell_type": "code",
   "execution_count": 4,
   "metadata": {},
   "outputs": [],
   "source": [
    "x_train, y_train = train\n",
    "x_test, y_test = test\n",
    "\n",
    "# Preproc the inputs\n",
    "x_train = preproc_x(x_train)\n",
    "x_test = preproc_x(x_test)\n",
    "\n",
    "# Preprc the outputs\n",
    "y_train = preproc_y(y_train)\n",
    "y_test = preproc_y(y_test)"
   ]
  },
  {
   "cell_type": "code",
   "execution_count": 5,
   "metadata": {},
   "outputs": [],
   "source": [
    "# Hint 1 : 在 Dense 層中增加 Regularizers\n",
    "# Hint 2 : 增加 Dropout 層並設定 dropout ratio \n",
    "# Hint 3 : 增加 Batch-normalization 層\n",
    "from keras.layers import BatchNormalization\n",
    "from keras.regularizers import l1, l2, l1_l2\n",
    "from keras.layers import Dropout\n",
    "\n",
    "def build_mlp(input_shape, output_units=10, num_neurons=[512, 256, 128]):\n",
    "    input_layer = keras.layers.Input(input_shape)\n",
    "    \n",
    "    for i, n_units in enumerate(num_neurons):\n",
    "        if i == 0:\n",
    "            x = keras.layers.Dense(units=n_units, \n",
    "                                   activation=\"relu\", \n",
    "                                   name=\"hidden_layer\"+str(i+1),\n",
    "                                   kernel_regularizer=l1(l1_ratio))(input_layer)\n",
    "            x = Dropout(drop_ratio)(x)\n",
    "            x = BatchNormalization()(x)\n",
    "        else:\n",
    "            x = keras.layers.Dense(units=n_units, \n",
    "                                   activation=\"relu\", \n",
    "                                   name=\"hidden_layer\"+str(i+1),\n",
    "                                   kernel_regularizer=l1(l1_ratio))(x)\n",
    "            x = BatchNormalization()(x)\n",
    "    \n",
    "    out = keras.layers.Dense(units=output_units, activation=\"softmax\", name=\"output\")(x)\n",
    "    \n",
    "    model = keras.models.Model(inputs=[input_layer], outputs=[out])\n",
    "    return model"
   ]
  },
  {
   "cell_type": "code",
   "execution_count": 6,
   "metadata": {},
   "outputs": [
    {
     "name": "stdout",
     "output_type": "stream",
     "text": [
      "WARNING:tensorflow:From D:\\Install_Software\\anaconda3\\lib\\site-packages\\tensorflow\\python\\framework\\op_def_library.py:263: colocate_with (from tensorflow.python.framework.ops) is deprecated and will be removed in a future version.\n",
      "Instructions for updating:\n",
      "Colocations handled automatically by placer.\n",
      "WARNING:tensorflow:From D:\\Install_Software\\anaconda3\\lib\\site-packages\\keras\\backend\\tensorflow_backend.py:3445: calling dropout (from tensorflow.python.ops.nn_ops) with keep_prob is deprecated and will be removed in a future version.\n",
      "Instructions for updating:\n",
      "Please use `rate` instead of `keep_prob`. Rate should be set to `rate = 1 - keep_prob`.\n",
      "_________________________________________________________________\n",
      "Layer (type)                 Output Shape              Param #   \n",
      "=================================================================\n",
      "input_1 (InputLayer)         (None, 3072)              0         \n",
      "_________________________________________________________________\n",
      "hidden_layer1 (Dense)        (None, 512)               1573376   \n",
      "_________________________________________________________________\n",
      "dropout_1 (Dropout)          (None, 512)               0         \n",
      "_________________________________________________________________\n",
      "batch_normalization_1 (Batch (None, 512)               2048      \n",
      "_________________________________________________________________\n",
      "hidden_layer2 (Dense)        (None, 256)               131328    \n",
      "_________________________________________________________________\n",
      "batch_normalization_2 (Batch (None, 256)               1024      \n",
      "_________________________________________________________________\n",
      "hidden_layer3 (Dense)        (None, 128)               32896     \n",
      "_________________________________________________________________\n",
      "batch_normalization_3 (Batch (None, 128)               512       \n",
      "_________________________________________________________________\n",
      "output (Dense)               (None, 10)                1290      \n",
      "=================================================================\n",
      "Total params: 1,742,474\n",
      "Trainable params: 1,740,682\n",
      "Non-trainable params: 1,792\n",
      "_________________________________________________________________\n"
     ]
    }
   ],
   "source": [
    "## 超參數設定\n",
    "LEARNING_RATE = 1e-3\n",
    "EPOCHS = 50\n",
    "l1_ratio = 0.0001\n",
    "Batch_Size = 256\n",
    "MOMENTUM = 0.95\n",
    "drop_ratio = 0.25\n",
    "\n",
    "\n",
    "model = build_mlp(input_shape=x_train.shape[1:])\n",
    "model.summary()"
   ]
  },
  {
   "cell_type": "code",
   "execution_count": 7,
   "metadata": {
    "scrolled": true
   },
   "outputs": [
    {
     "name": "stdout",
     "output_type": "stream",
     "text": [
      "WARNING:tensorflow:From D:\\Install_Software\\anaconda3\\lib\\site-packages\\tensorflow\\python\\ops\\math_ops.py:3066: to_int32 (from tensorflow.python.ops.math_ops) is deprecated and will be removed in a future version.\n",
      "Instructions for updating:\n",
      "Use tf.cast instead.\n",
      "Train on 50000 samples, validate on 10000 samples\n",
      "Epoch 1/50\n",
      "50000/50000 [==============================] - 13s 266us/step - loss: 6.0838 - acc: 0.2820 - val_loss: 5.7456 - val_acc: 0.3613\n",
      "Epoch 2/50\n",
      "50000/50000 [==============================] - 11s 215us/step - loss: 5.6716 - acc: 0.3737 - val_loss: 5.5721 - val_acc: 0.3983\n",
      "Epoch 3/50\n",
      "50000/50000 [==============================] - 11s 213us/step - loss: 5.5113 - acc: 0.4063 - val_loss: 5.4333 - val_acc: 0.4186- acc: 0.40 - ETA: 0s - loss: 5.5150 - ac\n",
      "Epoch 4/50\n",
      "50000/50000 [==============================] - 11s 211us/step - loss: 5.3879 - acc: 0.4286 - val_loss: 5.3394 - val_acc: 0.4262\n",
      "Epoch 5/50\n",
      "50000/50000 [==============================] - 11s 211us/step - loss: 5.2825 - acc: 0.4416 - val_loss: 5.2319 - val_acc: 0.4450\n",
      "Epoch 6/50\n",
      "50000/50000 [==============================] - 11s 211us/step - loss: 5.1965 - acc: 0.4488 - val_loss: 5.1728 - val_acc: 0.4399\n",
      "Epoch 7/50\n",
      "50000/50000 [==============================] - 11s 213us/step - loss: 5.1005 - acc: 0.4591 - val_loss: 5.0687 - val_acc: 0.4562\n",
      "Epoch 8/50\n",
      "50000/50000 [==============================] - 11s 212us/step - loss: 5.0173 - acc: 0.4676 - val_loss: 5.0081 - val_acc: 0.4550\n",
      "Epoch 9/50\n",
      "50000/50000 [==============================] - 11s 210us/step - loss: 4.9419 - acc: 0.4712 - val_loss: 4.9483 - val_acc: 0.4636\n",
      "Epoch 10/50\n",
      "50000/50000 [==============================] - 11s 214us/step - loss: 4.8646 - acc: 0.4785 - val_loss: 4.8775 - val_acc: 0.4590\n",
      "Epoch 11/50\n",
      "50000/50000 [==============================] - 11s 210us/step - loss: 4.7984 - acc: 0.4803 - val_loss: 4.7813 - val_acc: 0.4728\n",
      "Epoch 12/50\n",
      "50000/50000 [==============================] - 11s 212us/step - loss: 4.7236 - acc: 0.4857 - val_loss: 4.7471 - val_acc: 0.4640 acc - ETA: 5s -\n",
      "Epoch 13/50\n",
      "50000/50000 [==============================] - 11s 215us/step - loss: 4.6498 - acc: 0.4908 - val_loss: 4.6534 - val_acc: 0.4756\n",
      "Epoch 14/50\n",
      "50000/50000 [==============================] - 11s 220us/step - loss: 4.5790 - acc: 0.4936 - val_loss: 4.5822 - val_acc: 0.4771\n",
      "Epoch 15/50\n",
      "50000/50000 [==============================] - 10s 198us/step - loss: 4.5107 - acc: 0.4973 - val_loss: 4.6813 - val_acc: 0.4347\n",
      "Epoch 16/50\n",
      "50000/50000 [==============================] - 9s 176us/step - loss: 4.4537 - acc: 0.4956 - val_loss: 4.5290 - val_acc: 0.4639\n",
      "Epoch 17/50\n",
      "50000/50000 [==============================] - 9s 181us/step - loss: 4.3911 - acc: 0.5010 - val_loss: 4.4280 - val_acc: 0.4796\n",
      "Epoch 18/50\n",
      "50000/50000 [==============================] - 11s 211us/step - loss: 4.3376 - acc: 0.5005 - val_loss: 4.3811 - val_acc: 0.4749\n",
      "Epoch 19/50\n",
      "50000/50000 [==============================] - 11s 215us/step - loss: 4.2781 - acc: 0.4996 - val_loss: 4.3545 - val_acc: 0.4672\n",
      "Epoch 20/50\n",
      "50000/50000 [==============================] - 11s 211us/step - loss: 4.2356 - acc: 0.4971 - val_loss: 4.2530 - val_acc: 0.4772ETA: 0s - loss: 4.2371 - acc: 0.49\n",
      "Epoch 21/50\n",
      "50000/50000 [==============================] - 11s 211us/step - loss: 4.1663 - acc: 0.5025 - val_loss: 4.1839 - val_acc: 0.4868\n",
      "Epoch 22/50\n",
      "50000/50000 [==============================] - 11s 215us/step - loss: 4.1056 - acc: 0.5029 - val_loss: 4.1727 - val_acc: 0.4648\n",
      "Epoch 23/50\n",
      "50000/50000 [==============================] - 11s 211us/step - loss: 4.0532 - acc: 0.5031 - val_loss: 4.0790 - val_acc: 0.486241 - acc: 0.5\n",
      "Epoch 24/50\n",
      "50000/50000 [==============================] - 11s 210us/step - loss: 3.9851 - acc: 0.5097 - val_loss: 4.0618 - val_acc: 0.4769\n",
      "Epoch 25/50\n",
      "50000/50000 [==============================] - 11s 213us/step - loss: 3.9414 - acc: 0.5100 - val_loss: 4.0131 - val_acc: 0.4722\n",
      "Epoch 26/50\n",
      "50000/50000 [==============================] - 11s 212us/step - loss: 3.8894 - acc: 0.5065 - val_loss: 3.9254 - val_acc: 0.4885\n",
      "Epoch 27/50\n",
      "50000/50000 [==============================] - 11s 211us/step - loss: 3.8283 - acc: 0.5111 - val_loss: 3.8854 - val_acc: 0.4837\n",
      "Epoch 28/50\n",
      "50000/50000 [==============================] - 11s 214us/step - loss: 3.7839 - acc: 0.5068 - val_loss: 3.8387 - val_acc: 0.4824\n",
      "Epoch 29/50\n",
      "50000/50000 [==============================] - 11s 213us/step - loss: 3.7185 - acc: 0.5175 - val_loss: 3.8120 - val_acc: 0.4819\n",
      "Epoch 30/50\n",
      "50000/50000 [==============================] - 11s 212us/step - loss: 3.6755 - acc: 0.5150 - val_loss: 3.7656 - val_acc: 0.4809\n",
      "Epoch 31/50\n",
      "50000/50000 [==============================] - 11s 210us/step - loss: 3.6267 - acc: 0.5162 - val_loss: 3.7659 - val_acc: 0.4591\n",
      "Epoch 32/50\n",
      "50000/50000 [==============================] - 11s 210us/step - loss: 3.5699 - acc: 0.5187 - val_loss: 3.6387 - val_acc: 0.4839\n",
      "Epoch 33/50\n",
      "50000/50000 [==============================] - 11s 211us/step - loss: 3.5273 - acc: 0.5183 - val_loss: 3.6027 - val_acc: 0.4916oss: 3.5335 \n",
      "Epoch 34/50\n",
      "50000/50000 [==============================] - 11s 215us/step - loss: 3.4684 - acc: 0.5221 - val_loss: 3.5854 - val_acc: 0.4688\n",
      "Epoch 35/50\n",
      "50000/50000 [==============================] - 11s 214us/step - loss: 3.4183 - acc: 0.5239 - val_loss: 3.5832 - val_acc: 0.4605\n",
      "Epoch 36/50\n",
      "50000/50000 [==============================] - 11s 210us/step - loss: 3.3791 - acc: 0.5255 - val_loss: 3.5177 - val_acc: 0.4738\n",
      "Epoch 37/50\n",
      "50000/50000 [==============================] - 10s 208us/step - loss: 3.3319 - acc: 0.5238 - val_loss: 3.4620 - val_acc: 0.4774ss: 3.3321\n",
      "Epoch 38/50\n",
      "50000/50000 [==============================] - 11s 212us/step - loss: 3.2766 - acc: 0.5297 - val_loss: 3.3800 - val_acc: 0.48282s -\n",
      "Epoch 39/50\n",
      "50000/50000 [==============================] - 10s 207us/step - loss: 3.2359 - acc: 0.5296 - val_loss: 3.3579 - val_acc: 0.4814 ac - ETA: 1s - loss: 3.2347 - acc: 0 - ETA: 0s - loss: 3.2344 - acc\n",
      "Epoch 40/50\n",
      "50000/50000 [==============================] - 11s 211us/step - loss: 3.2101 - acc: 0.5232 - val_loss: 3.2682 - val_acc: 0.5025\n",
      "Epoch 41/50\n",
      "50000/50000 [==============================] - 11s 220us/step - loss: 3.1723 - acc: 0.5216 - val_loss: 3.2951 - val_acc: 0.4603\n",
      "Epoch 42/50\n",
      "50000/50000 [==============================] - 11s 213us/step - loss: 3.1308 - acc: 0.5212 - val_loss: 3.1997 - val_acc: 0.4997 3.1321 - acc: 0.5 - ETA: 0s - loss: 3.1310 - acc: 0.52\n",
      "Epoch 43/50\n",
      "50000/50000 [==============================] - 11s 212us/step - loss: 3.0851 - acc: 0.5252 - val_loss: 3.2102 - val_acc: 0.4744\n",
      "Epoch 44/50\n",
      "50000/50000 [==============================] - 11s 213us/step - loss: 3.0524 - acc: 0.5231 - val_loss: 3.1857 - val_acc: 0.4706\n",
      "Epoch 45/50\n",
      "50000/50000 [==============================] - 11s 213us/step - loss: 3.0100 - acc: 0.5254 - val_loss: 3.1593 - val_acc: 0.4729\n",
      "Epoch 46/50\n",
      "50000/50000 [==============================] - 11s 213us/step - loss: 2.9667 - acc: 0.5289 - val_loss: 3.0613 - val_acc: 0.4904\n",
      "Epoch 47/50\n",
      "50000/50000 [==============================] - 10s 208us/step - loss: 2.9334 - acc: 0.5258 - val_loss: 3.0801 - val_acc: 0.4627.9345 - acc: 0.52\n",
      "Epoch 48/50\n",
      "50000/50000 [==============================] - 11s 210us/step - loss: 2.8989 - acc: 0.5246 - val_loss: 2.9660 - val_acc: 0.4943: 2.9018 - acc: 0.52 - ETA: 2s - loss: 2.90 - ETA: 0s - loss: 2.8993 - acc\n",
      "Epoch 49/50\n",
      "50000/50000 [==============================] - 11s 210us/step - loss: 2.8570 - acc: 0.5274 - val_loss: 2.9834 - val_acc: 0.4784: 2.8630 - acc: 0. - ETA - E - ETA: 1s - loss: 2.8\n",
      "Epoch 50/50\n",
      "50000/50000 [==============================] - 11s 212us/step - loss: 2.8337 - acc: 0.5245 - val_loss: 2.9048 - val_acc: 0.4906\n"
     ]
    }
   ],
   "source": [
    "optimizer = keras.optimizers.SGD(lr=LEARNING_RATE, nesterov=True, momentum=MOMENTUM)\n",
    "model.compile(loss=\"categorical_crossentropy\", metrics=[\"accuracy\"], optimizer=optimizer)\n",
    "model.fit(x_train, y_train,\n",
    "          epochs=EPOCHS,\n",
    "          batch_size=Batch_Size,\n",
    "          validation_data=(x_test, y_test),\n",
    "          shuffle=True)\n",
    "\n",
    "# Collect results\n",
    "train_loss = model.history.history[\"loss\"]\n",
    "valid_loss = model.history.history[\"val_loss\"]\n",
    "train_acc = model.history.history[\"acc\"]\n",
    "valid_acc = model.history.history[\"val_acc\"]"
   ]
  },
  {
   "cell_type": "code",
   "execution_count": 8,
   "metadata": {},
   "outputs": [
    {
     "data": {
      "image/png": "[encoded data removed]",
      "text/plain": [
       "<Figure size 432x288 with 1 Axes>"
      ]
     },
     "metadata": {
      "needs_background": "light"
     },
     "output_type": "display_data"
    },
    {
     "data": {
      "image/png": "[encoded data removed]",
      "text/plain": [
       "<Figure size 432x288 with 1 Axes>"
      ]
     },
     "metadata": {
      "needs_background": "light"
     },
     "output_type": "display_data"
    }
   ],
   "source": [
    "import matplotlib.pyplot as plt\n",
    "%matplotlib inline\n",
    "\n",
    "plt.plot(range(len(train_loss)), train_loss, label=\"train loss\")\n",
    "plt.plot(range(len(valid_loss)), valid_loss, label=\"valid loss\")\n",
    "plt.legend()\n",
    "plt.title(\"Loss\")\n",
    "plt.show()\n",
    "\n",
    "plt.plot(range(len(train_acc)), train_acc, label=\"train accuracy\")\n",
    "plt.plot(range(len(valid_acc)), valid_acc, label=\"valid accuracy\")\n",
    "plt.legend()\n",
    "plt.title(\"Accuracy\")\n",
    "plt.show()"
   ]
  },
  {
   "cell_type": "code",
   "execution_count": null,
   "metadata": {},
   "outputs": [],
   "source": []
  }
 ],
 "metadata": {
  "kernelspec": {
   "display_name": "Python 3",
   "language": "python",
   "name": "python3"
  },
  "language_info": {
   "codemirror_mode": {
    "name": "ipython",
    "version": 3
   },
   "file_extension": ".py",
   "mimetype": "text/x-python",
   "name": "python",
   "nbconvert_exporter": "python",
   "pygments_lexer": "ipython3",
   "version": "3.6.8"
  }
 },
 "nbformat": 4,
 "nbformat_minor": 2
}
