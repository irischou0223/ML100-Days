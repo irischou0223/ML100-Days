{
 "cells": [
  {
   "cell_type": "markdown",
   "metadata": {},
   "source": [
    "## Work\n",
    "1. 請嘗試寫一個 callback 用來記錄各類別在訓練過程中，對驗證集的 True Positive 與 True Negative"
   ]
  },
  {
   "cell_type": "code",
   "execution_count": 1,
   "metadata": {},
   "outputs": [
    {
     "name": "stderr",
     "output_type": "stream",
     "text": [
      "Using TensorFlow backend.\n"
     ]
    }
   ],
   "source": [
    "import os\n",
    "import keras\n",
    "\n",
    "# Disable GPU\n",
    "os.environ[\"CUDA_VISIBLE_DEVICES\"] = \"\""
   ]
  },
  {
   "cell_type": "code",
   "execution_count": 2,
   "metadata": {},
   "outputs": [],
   "source": [
    "train, test = keras.datasets.cifar10.load_data()"
   ]
  },
  {
   "cell_type": "code",
   "execution_count": 3,
   "metadata": {},
   "outputs": [],
   "source": [
    "## 資料前處理\n",
    "def preproc_x(x, flatten=True):\n",
    "    x = x / 255.\n",
    "    if flatten:\n",
    "        x = x.reshape((len(x), -1))\n",
    "    return x\n",
    "\n",
    "def preproc_y(y, num_classes=10):\n",
    "    if y.shape[-1] == 1:\n",
    "        y = keras.utils.to_categorical(y, num_classes)\n",
    "    return y    "
   ]
  },
  {
   "cell_type": "code",
   "execution_count": 4,
   "metadata": {},
   "outputs": [],
   "source": [
    "x_train, y_train = train\n",
    "x_test, y_test = test\n",
    "\n",
    "# Preproc the inputs\n",
    "x_train = preproc_x(x_train)\n",
    "x_test = preproc_x(x_test)\n",
    "\n",
    "# Preprc the outputs\n",
    "y_train = preproc_y(y_train)\n",
    "y_test = preproc_y(y_test)"
   ]
  },
  {
   "cell_type": "code",
   "execution_count": 6,
   "metadata": {},
   "outputs": [],
   "source": [
    "from keras.layers import BatchNormalization\n",
    "def build_mlp(input_shape, output_units=10, num_neurons=[256, 256, 256]):\n",
    "    input_layer = keras.layers.Input(input_shape)\n",
    "    \n",
    "    for i, n_units in enumerate(num_neurons):\n",
    "        if i == 0:\n",
    "            x = keras.layers.Dense(units=n_units, \n",
    "                                   activation=\"relu\", \n",
    "                                   name=\"hidden_layer\"+str(i+1))(input_layer)\n",
    "            x = BatchNormalization()(x)\n",
    "        else:\n",
    "            x = keras.layers.Dense(units=n_units, \n",
    "                                   activation=\"relu\", \n",
    "                                   name=\"hidden_layer\"+str(i+1))(x)\n",
    "            x = BatchNormalization()(x)\n",
    "    \n",
    "    out = keras.layers.Dense(units=output_units, activation=\"softmax\", name=\"output\")(x)\n",
    "    \n",
    "    model = keras.models.Model(inputs=[input_layer], outputs=[out])\n",
    "    return model"
   ]
  },
  {
   "cell_type": "code",
   "execution_count": 7,
   "metadata": {},
   "outputs": [],
   "source": [
    "## 超參數設定\n",
    "LEARNING_RATE = 1e-3\n",
    "EPOCHS = 25\n",
    "BATCH_SIZE = 1024\n",
    "MOMENTUM = 0.95"
   ]
  },
  {
   "cell_type": "code",
   "execution_count": 8,
   "metadata": {},
   "outputs": [],
   "source": [
    "# 載入 Callbacks\n",
    "from keras.callbacks import Callback\n",
    "\n",
    "\n",
    "# Record_fp_tp\n",
    "class Record_tp_tn(Callback):\n",
    "    def on_train_begin(self, epoch, logs = {}):\n",
    "        logs = logs or {}\n",
    "        record_items = [\"val_tp\", \"val_tn\"]\n",
    "        for i in record_items:\n",
    "            if i not in self.params['metrics']:\n",
    "                self.params['metrics'].append(i)\n",
    "    \n",
    "    def on_epoch_end(self, epoch, logs = {}, thres=0.5):\n",
    "        logs = logs or {}\n",
    "        y_true = self.validation_data[1].argmax(axis = 1)\n",
    "        y_pred = self.model.predict(self.validation_data[0])\n",
    "        y_pred = (y_pred[:, 1] >= thres) * 1\n",
    "        \n",
    "        val_tp = sum(y_true*y_pred)\n",
    "        val_tn = sum((y_true==0) & (y_pred==0))\n",
    "        \n",
    "        logs[\"val_tp\"] = val_tp\n",
    "        logs[\"val_tn\"] = val_tn\n",
    "        \n",
    "rec_tptn = Record_tp_tn()"
   ]
  },
  {
   "cell_type": "code",
   "execution_count": 9,
   "metadata": {
    "scrolled": true
   },
   "outputs": [
    {
     "name": "stdout",
     "output_type": "stream",
     "text": [
      "WARNING:tensorflow:From D:\\Install_Software\\anaconda3\\lib\\site-packages\\tensorflow\\python\\framework\\op_def_library.py:263: colocate_with (from tensorflow.python.framework.ops) is deprecated and will be removed in a future version.\n",
      "Instructions for updating:\n",
      "Colocations handled automatically by placer.\n",
      "_________________________________________________________________\n",
      "Layer (type)                 Output Shape              Param #   \n",
      "=================================================================\n",
      "input_1 (InputLayer)         (None, 3072)              0         \n",
      "_________________________________________________________________\n",
      "hidden_layer1 (Dense)        (None, 256)               786688    \n",
      "_________________________________________________________________\n",
      "batch_normalization_1 (Batch (None, 256)               1024      \n",
      "_________________________________________________________________\n",
      "hidden_layer2 (Dense)        (None, 256)               65792     \n",
      "_________________________________________________________________\n",
      "batch_normalization_2 (Batch (None, 256)               1024      \n",
      "_________________________________________________________________\n",
      "hidden_layer3 (Dense)        (None, 256)               65792     \n",
      "_________________________________________________________________\n",
      "batch_normalization_3 (Batch (None, 256)               1024      \n",
      "_________________________________________________________________\n",
      "output (Dense)               (None, 10)                2570      \n",
      "=================================================================\n",
      "Total params: 923,914\n",
      "Trainable params: 922,378\n",
      "Non-trainable params: 1,536\n",
      "_________________________________________________________________\n",
      "WARNING:tensorflow:From D:\\Install_Software\\anaconda3\\lib\\site-packages\\tensorflow\\python\\ops\\math_ops.py:3066: to_int32 (from tensorflow.python.ops.math_ops) is deprecated and will be removed in a future version.\n",
      "Instructions for updating:\n",
      "Use tf.cast instead.\n",
      "Train on 50000 samples, validate on 10000 samples\n",
      "Epoch 1/25\n",
      "50000/50000 [==============================] - 17s 344us/step - loss: 2.2296 - acc: 0.2628 - val_loss: 2.1578 - val_acc: 0.3091\n",
      "Epoch 2/25\n",
      "50000/50000 [==============================] - 3s 68us/step - loss: 1.7707 - acc: 0.3818 - val_loss: 1.8194 - val_acc: 0.3749\n",
      "Epoch 3/25\n",
      "50000/50000 [==============================] - 3s 67us/step - loss: 1.6390 - acc: 0.4251 - val_loss: 1.6893 - val_acc: 0.4108\n",
      "Epoch 4/25\n",
      "50000/50000 [==============================] - 3s 69us/step - loss: 1.5629 - acc: 0.4503 - val_loss: 1.6348 - val_acc: 0.4260\n",
      "Epoch 5/25\n",
      "50000/50000 [==============================] - 3s 64us/step - loss: 1.5108 - acc: 0.4700 - val_loss: 1.6005 - val_acc: 0.4378\n",
      "Epoch 6/25\n",
      "50000/50000 [==============================] - 3s 63us/step - loss: 1.4674 - acc: 0.4842 - val_loss: 1.5651 - val_acc: 0.4501\n",
      "Epoch 7/25\n",
      "50000/50000 [==============================] - 3s 64us/step - loss: 1.4298 - acc: 0.5001 - val_loss: 1.5369 - val_acc: 0.4583\n",
      "Epoch 8/25\n",
      "50000/50000 [==============================] - 3s 63us/step - loss: 1.3974 - acc: 0.5112 - val_loss: 1.5266 - val_acc: 0.4624\n",
      "Epoch 9/25\n",
      "50000/50000 [==============================] - 3s 64us/step - loss: 1.3685 - acc: 0.5222 - val_loss: 1.5174 - val_acc: 0.4679\n",
      "Epoch 10/25\n",
      "50000/50000 [==============================] - 3s 65us/step - loss: 1.3419 - acc: 0.5298 - val_loss: 1.5137 - val_acc: 0.4720\n",
      "Epoch 11/25\n",
      "50000/50000 [==============================] - 3s 63us/step - loss: 1.3179 - acc: 0.5405 - val_loss: 1.4958 - val_acc: 0.4737\n",
      "Epoch 12/25\n",
      "50000/50000 [==============================] - 3s 66us/step - loss: 1.2926 - acc: 0.5508 - val_loss: 1.4872 - val_acc: 0.4757\n",
      "Epoch 13/25\n",
      "50000/50000 [==============================] - 3s 66us/step - loss: 1.2708 - acc: 0.5573 - val_loss: 1.4842 - val_acc: 0.4831A: 0s - loss: 1.2739\n",
      "Epoch 14/25\n",
      "50000/50000 [==============================] - 3s 66us/step - loss: 1.2505 - acc: 0.5664 - val_loss: 1.4787 - val_acc: 0.4850\n",
      "Epoch 15/25\n",
      "50000/50000 [==============================] - 3s 67us/step - loss: 1.2300 - acc: 0.5740 - val_loss: 1.4733 - val_acc: 0.4869\n",
      "Epoch 16/25\n",
      "50000/50000 [==============================] - 3s 66us/step - loss: 1.2094 - acc: 0.5822 - val_loss: 1.4569 - val_acc: 0.4932\n",
      "Epoch 17/25\n",
      "50000/50000 [==============================] - 3s 65us/step - loss: 1.1892 - acc: 0.5900 - val_loss: 1.4547 - val_acc: 0.4918\n",
      "Epoch 18/25\n",
      "50000/50000 [==============================] - 3s 66us/step - loss: 1.1709 - acc: 0.5974 - val_loss: 1.4592 - val_acc: 0.4950\n",
      "Epoch 19/25\n",
      "50000/50000 [==============================] - 3s 65us/step - loss: 1.1533 - acc: 0.6012 - val_loss: 1.4547 - val_acc: 0.4928\n",
      "Epoch 20/25\n",
      "50000/50000 [==============================] - 3s 68us/step - loss: 1.1371 - acc: 0.6090 - val_loss: 1.4467 - val_acc: 0.4913\n",
      "Epoch 21/25\n",
      "50000/50000 [==============================] - 3s 67us/step - loss: 1.1208 - acc: 0.6158 - val_loss: 1.4470 - val_acc: 0.4928\n",
      "Epoch 22/25\n",
      "50000/50000 [==============================] - 4s 71us/step - loss: 1.1010 - acc: 0.6226 - val_loss: 1.4556 - val_acc: 0.4937\n",
      "Epoch 23/25\n",
      "50000/50000 [==============================] - 4s 71us/step - loss: 1.0857 - acc: 0.6275 - val_loss: 1.4362 - val_acc: 0.5018\n",
      "Epoch 24/25\n",
      "50000/50000 [==============================] - 3s 69us/step - loss: 1.0673 - acc: 0.6360 - val_loss: 1.4338 - val_acc: 0.5033\n",
      "Epoch 25/25\n",
      "50000/50000 [==============================] - 4s 71us/step - loss: 1.0526 - acc: 0.6401 - val_loss: 1.4692 - val_acc: 0.4921\n"
     ]
    }
   ],
   "source": [
    "model = build_mlp(input_shape=x_train.shape[1:])\n",
    "model.summary()\n",
    "optimizer = keras.optimizers.SGD(lr=LEARNING_RATE, nesterov=True, momentum=MOMENTUM)\n",
    "model.compile(loss=\"categorical_crossentropy\", metrics=[\"accuracy\"], optimizer=optimizer)\n",
    "\n",
    "model.fit(x_train, y_train, \n",
    "          epochs=EPOCHS, \n",
    "          batch_size=BATCH_SIZE, \n",
    "          validation_data=(x_test, y_test), \n",
    "          shuffle=True,\n",
    "          callbacks=[rec_tptn]\n",
    "         )\n",
    "\n",
    "# Collect results\n",
    "train_loss = model.history.history[\"loss\"]\n",
    "valid_loss = model.history.history[\"val_loss\"]\n",
    "train_acc = model.history.history[\"acc\"]\n",
    "valid_acc = model.history.history[\"val_acc\"]\n",
    "\n",
    "\"\"\"\n",
    "To do:\n",
    "Collect tp/tn from model history\n",
    "\"\"\"\n",
    "valid_tp = model.history.history['val_tp']\n",
    "valid_tn = model.history.history['val_tn']"
   ]
  },
  {
   "cell_type": "code",
   "execution_count": 10,
   "metadata": {},
   "outputs": [
    {
     "data": {
      "image/png": "[encoded data removed]",
      "text/plain": [
       "<Figure size 432x288 with 1 Axes>"
      ]
     },
     "metadata": {
      "needs_background": "light"
     },
     "output_type": "display_data"
    },
    {
     "data": {
      "image/png": "[encoded data removed]",
      "text/plain": [
       "<Figure size 432x288 with 1 Axes>"
      ]
     },
     "metadata": {
      "needs_background": "light"
     },
     "output_type": "display_data"
    },
    {
     "data": {
      "image/png": "[encoded data removed]",
      "text/plain": [
       "<Figure size 432x288 with 1 Axes>"
      ]
     },
     "metadata": {
      "needs_background": "light"
     },
     "output_type": "display_data"
    }
   ],
   "source": [
    "import matplotlib.pyplot as plt\n",
    "%matplotlib inline\n",
    "\n",
    "plt.plot(range(len(train_loss)), train_loss, label=\"train loss\")\n",
    "plt.plot(range(len(valid_loss)), valid_loss, label=\"valid loss\")\n",
    "plt.legend()\n",
    "plt.title(\"Loss\")\n",
    "plt.show()\n",
    "\n",
    "plt.plot(range(len(train_acc)), train_acc, label=\"train accuracy\")\n",
    "plt.plot(range(len(valid_acc)), valid_acc, label=\"valid accuracy\")\n",
    "plt.legend()\n",
    "plt.title(\"Accuracy\")\n",
    "plt.show()\n",
    "\n",
    "plt.plot(range(len(valid_tp)), valid_tp, label=\"valid tp\", color=\"navy\")\n",
    "plt.plot(range(len(valid_tn)), valid_tn, label=\"valid tn\", color=\"red\")\n",
    "plt.legend()\n",
    "plt.title(\"True positives and True Negatives\")\n",
    "plt.show()\n"
   ]
  },
  {
   "cell_type": "code",
   "execution_count": null,
   "metadata": {},
   "outputs": [],
   "source": []
  }
 ],
 "metadata": {
  "kernelspec": {
   "display_name": "Python 3",
   "language": "python",
   "name": "python3"
  },
  "language_info": {
   "codemirror_mode": {
    "name": "ipython",
    "version": 3
   },
   "file_extension": ".py",
   "mimetype": "text/x-python",
   "name": "python",
   "nbconvert_exporter": "python",
   "pygments_lexer": "ipython3",
   "version": "3.6.8"
  }
 },
 "nbformat": 4,
 "nbformat_minor": 2
}
