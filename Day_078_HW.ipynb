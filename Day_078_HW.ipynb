{
 "cells": [
  {
   "cell_type": "markdown",
   "metadata": {},
   "source": [
    "## Work\n",
    "1. 請嘗試將 preproc_x 替換成以每筆資料的 min/max 進行標準化至 -1 ~ 1 間，再進行訓練\n",
    "2. 請嘗試將 mlp 疊更深 (e.g 5~10 層)，進行訓練後觀察 learning curve 的走勢\n",
    "3. (optional) 請改用 GPU 進行訓練 (如果你有 GPU 的話)，比較使用 CPU 與 GPU 的訓練速度"
   ]
  },
  {
   "cell_type": "code",
   "execution_count": 3,
   "metadata": {},
   "outputs": [
    {
     "name": "stderr",
     "output_type": "stream",
     "text": [
      "'nvidia-smi' 不是內部或外部命令、可執行的程式或批次檔。\n"
     ]
    }
   ],
   "source": [
    "## 確認硬體資源\n",
    "!nvidia-smi"
   ]
  },
  {
   "cell_type": "code",
   "execution_count": 4,
   "metadata": {},
   "outputs": [],
   "source": [
    "import os\n",
    "import keras\n",
    "\n",
    "os.environ[\"CUDA_DEVICE_ORDER\"]=\"PCI_BUS_ID\"\n",
    "os.environ[\"CUDA_VISIBLE_DEVICES\"] = \"5\""
   ]
  },
  {
   "cell_type": "code",
   "execution_count": 5,
   "metadata": {},
   "outputs": [],
   "source": [
    "train, test = keras.datasets.cifar10.load_data()"
   ]
  },
  {
   "cell_type": "code",
   "execution_count": 6,
   "metadata": {},
   "outputs": [],
   "source": [
    "## 資料前處理\n",
    "def preproc_x(x, flatten=True):\n",
    "    x = 2*(((x - x.min()) / (x.max() - x.min()))-0.5)\n",
    "    if flatten:\n",
    "        x = x.reshape((len(x), -1))\n",
    "    return x\n",
    "\n",
    "def preproc_y(y, num_classes=10):\n",
    "    if y.shape[-1] == 1:\n",
    "        y = keras.utils.to_categorical(y, num_classes)\n",
    "    return y    "
   ]
  },
  {
   "cell_type": "code",
   "execution_count": 7,
   "metadata": {},
   "outputs": [],
   "source": [
    "x_train, y_train = train\n",
    "x_test, y_test = test\n",
    "\n",
    "# Preproc the inputs\n",
    "x_train = preproc_x(x_train)\n",
    "x_test = preproc_x(x_test)\n",
    "\n",
    "# Preprc the outputs\n",
    "y_train = preproc_y(y_train)\n",
    "y_test = preproc_y(y_test)"
   ]
  },
  {
   "cell_type": "code",
   "execution_count": 8,
   "metadata": {},
   "outputs": [],
   "source": [
    "def build_mlp(input_shape, output_units=10, num_neurons=[512, 256, 128, 128, 128]):\n",
    "    input_layer = keras.layers.Input(input_shape)\n",
    "    \n",
    "    for i, n_units in enumerate(num_neurons):\n",
    "        if i == 0:\n",
    "            x = keras.layers.Dense(units=n_units, activation=\"relu\", name=\"hidden_layer\"+str(i+1))(input_layer)\n",
    "        else:\n",
    "            x = keras.layers.Dense(units=n_units, activation=\"relu\", name=\"hidden_layer\"+str(i+1))(x)\n",
    "    \n",
    "    out = keras.layers.Dense(units=output_units, activation=\"softmax\", name=\"output\")(x)\n",
    "    \n",
    "    model = keras.models.Model(inputs=[input_layer], outputs=[out])\n",
    "    return model"
   ]
  },
  {
   "cell_type": "code",
   "execution_count": 9,
   "metadata": {},
   "outputs": [
    {
     "name": "stdout",
     "output_type": "stream",
     "text": [
      "WARNING:tensorflow:From D:\\InstallSoftware\\Anaconda3\\lib\\site-packages\\tensorflow\\python\\framework\\op_def_library.py:263: colocate_with (from tensorflow.python.framework.ops) is deprecated and will be removed in a future version.\n",
      "Instructions for updating:\n",
      "Colocations handled automatically by placer.\n",
      "_________________________________________________________________\n",
      "Layer (type)                 Output Shape              Param #   \n",
      "=================================================================\n",
      "input_1 (InputLayer)         (None, 3072)              0         \n",
      "_________________________________________________________________\n",
      "hidden_layer1 (Dense)        (None, 512)               1573376   \n",
      "_________________________________________________________________\n",
      "hidden_layer2 (Dense)        (None, 256)               131328    \n",
      "_________________________________________________________________\n",
      "hidden_layer3 (Dense)        (None, 128)               32896     \n",
      "_________________________________________________________________\n",
      "hidden_layer4 (Dense)        (None, 128)               16512     \n",
      "_________________________________________________________________\n",
      "hidden_layer5 (Dense)        (None, 128)               16512     \n",
      "_________________________________________________________________\n",
      "output (Dense)               (None, 10)                1290      \n",
      "=================================================================\n",
      "Total params: 1,771,914\n",
      "Trainable params: 1,771,914\n",
      "Non-trainable params: 0\n",
      "_________________________________________________________________\n"
     ]
    }
   ],
   "source": [
    "model = build_mlp(input_shape=x_train.shape[1:])\n",
    "model.summary()"
   ]
  },
  {
   "cell_type": "code",
   "execution_count": 10,
   "metadata": {},
   "outputs": [],
   "source": [
    "## 超參數設定\n",
    "LEARNING_RATE = 0.001\n",
    "EPOCHS = 100\n",
    "BATCH_SIZE = 256"
   ]
  },
  {
   "cell_type": "code",
   "execution_count": 11,
   "metadata": {},
   "outputs": [],
   "source": [
    "optimizer = keras.optimizers.Adam(lr=LEARNING_RATE)\n",
    "model.compile(loss=\"categorical_crossentropy\", metrics=[\"accuracy\"], optimizer=optimizer)"
   ]
  },
  {
   "cell_type": "code",
   "execution_count": 12,
   "metadata": {},
   "outputs": [
    {
     "name": "stdout",
     "output_type": "stream",
     "text": [
      "WARNING:tensorflow:From D:\\InstallSoftware\\Anaconda3\\lib\\site-packages\\tensorflow\\python\\ops\\math_ops.py:3066: to_int32 (from tensorflow.python.ops.math_ops) is deprecated and will be removed in a future version.\n",
      "Instructions for updating:\n",
      "Use tf.cast instead.\n",
      "Train on 50000 samples, validate on 10000 samples\n",
      "Epoch 1/100\n",
      "50000/50000 [==============================] - 30s 598us/step - loss: 1.6930 - acc: 0.4012 - val_loss: 1.5441 - val_acc: 0.4562\n",
      "Epoch 2/100\n",
      "50000/50000 [==============================] - 27s 535us/step - loss: 1.4723 - acc: 0.4801 - val_loss: 1.4873 - val_acc: 0.4778\n",
      "Epoch 3/100\n",
      "50000/50000 [==============================] - 31s 615us/step - loss: 1.3625 - acc: 0.5179 - val_loss: 1.4156 - val_acc: 0.5026\n",
      "Epoch 4/100\n",
      "50000/50000 [==============================] - 27s 535us/step - loss: 1.2633 - acc: 0.5522 - val_loss: 1.3845 - val_acc: 0.5163\n",
      "Epoch 5/100\n",
      "50000/50000 [==============================] - 26s 516us/step - loss: 1.1800 - acc: 0.5796 - val_loss: 1.3944 - val_acc: 0.5128\n",
      "Epoch 6/100\n",
      "50000/50000 [==============================] - 25s 509us/step - loss: 1.1062 - acc: 0.6087 - val_loss: 1.3828 - val_acc: 0.5204\n",
      "Epoch 7/100\n",
      "50000/50000 [==============================] - 26s 518us/step - loss: 1.0305 - acc: 0.6347 - val_loss: 1.3763 - val_acc: 0.5329\n",
      "Epoch 8/100\n",
      "50000/50000 [==============================] - 26s 518us/step - loss: 0.9641 - acc: 0.6559 - val_loss: 1.3751 - val_acc: 0.5333\n",
      "Epoch 9/100\n",
      "50000/50000 [==============================] - 28s 561us/step - loss: 0.8889 - acc: 0.6855 - val_loss: 1.4334 - val_acc: 0.5297\n",
      "Epoch 10/100\n",
      "50000/50000 [==============================] - 27s 544us/step - loss: 0.8292 - acc: 0.7047 - val_loss: 1.4200 - val_acc: 0.5445\n",
      "Epoch 11/100\n",
      "50000/50000 [==============================] - 27s 547us/step - loss: 0.7622 - acc: 0.7297 - val_loss: 1.4879 - val_acc: 0.5342\n",
      "Epoch 12/100\n",
      "50000/50000 [==============================] - 27s 548us/step - loss: 0.7050 - acc: 0.7480 - val_loss: 1.5649 - val_acc: 0.5330\n",
      "Epoch 13/100\n",
      "50000/50000 [==============================] - 28s 562us/step - loss: 0.6479 - acc: 0.7697 - val_loss: 1.5970 - val_acc: 0.5299\n",
      "Epoch 14/100\n",
      "50000/50000 [==============================] - 27s 543us/step - loss: 0.5916 - acc: 0.7885 - val_loss: 1.7071 - val_acc: 0.5335\n",
      "Epoch 15/100\n",
      "50000/50000 [==============================] - 29s 572us/step - loss: 0.5408 - acc: 0.8068 - val_loss: 1.8263 - val_acc: 0.5288\n",
      "Epoch 16/100\n",
      "50000/50000 [==============================] - 28s 552us/step - loss: 0.5062 - acc: 0.8180 - val_loss: 1.8155 - val_acc: 0.5371\n",
      "Epoch 17/100\n",
      "50000/50000 [==============================] - 25s 505us/step - loss: 0.4609 - acc: 0.8380 - val_loss: 1.9089 - val_acc: 0.5278\n",
      "Epoch 18/100\n",
      "50000/50000 [==============================] - 26s 511us/step - loss: 0.4298 - acc: 0.8489 - val_loss: 2.0558 - val_acc: 0.5305\n",
      "Epoch 19/100\n",
      "50000/50000 [==============================] - 25s 501us/step - loss: 0.3757 - acc: 0.8664 - val_loss: 2.2725 - val_acc: 0.5340\n",
      "Epoch 20/100\n",
      "50000/50000 [==============================] - 26s 513us/step - loss: 0.3551 - acc: 0.8734 - val_loss: 2.2683 - val_acc: 0.5274\n",
      "Epoch 21/100\n",
      "50000/50000 [==============================] - 25s 504us/step - loss: 0.3460 - acc: 0.8777 - val_loss: 2.3540 - val_acc: 0.5289\n",
      "Epoch 22/100\n",
      "50000/50000 [==============================] - 25s 507us/step - loss: 0.3237 - acc: 0.8859 - val_loss: 2.3252 - val_acc: 0.5317\n",
      "Epoch 23/100\n",
      "50000/50000 [==============================] - 26s 511us/step - loss: 0.2828 - acc: 0.9007 - val_loss: 2.4050 - val_acc: 0.5241\n",
      "Epoch 24/100\n",
      "50000/50000 [==============================] - 25s 506us/step - loss: 0.2618 - acc: 0.9080 - val_loss: 2.5257 - val_acc: 0.5300\n",
      "Epoch 25/100\n",
      "50000/50000 [==============================] - 25s 505us/step - loss: 0.2586 - acc: 0.9082 - val_loss: 2.5834 - val_acc: 0.5378\n",
      "Epoch 26/100\n",
      "50000/50000 [==============================] - 25s 507us/step - loss: 0.2637 - acc: 0.9078 - val_loss: 2.5914 - val_acc: 0.5260\n",
      "Epoch 27/100\n",
      "50000/50000 [==============================] - 25s 509us/step - loss: 0.2303 - acc: 0.9201 - val_loss: 2.7744 - val_acc: 0.5291\n",
      "Epoch 28/100\n",
      "50000/50000 [==============================] - 25s 507us/step - loss: 0.2212 - acc: 0.9223 - val_loss: 2.7811 - val_acc: 0.5225\n",
      "Epoch 29/100\n",
      "50000/50000 [==============================] - 25s 503us/step - loss: 0.2039 - acc: 0.9283 - val_loss: 2.8479 - val_acc: 0.5235\n",
      "Epoch 30/100\n",
      "50000/50000 [==============================] - 25s 503us/step - loss: 0.2078 - acc: 0.9273 - val_loss: 2.8907 - val_acc: 0.5278\n",
      "Epoch 31/100\n",
      "50000/50000 [==============================] - 26s 515us/step - loss: 0.1903 - acc: 0.9328 - val_loss: 2.9368 - val_acc: 0.5325\n",
      "Epoch 32/100\n",
      "50000/50000 [==============================] - 25s 507us/step - loss: 0.1955 - acc: 0.9322 - val_loss: 2.9450 - val_acc: 0.5282\n",
      "Epoch 33/100\n",
      "50000/50000 [==============================] - 25s 504us/step - loss: 0.1917 - acc: 0.9329 - val_loss: 2.9856 - val_acc: 0.5314\n",
      "Epoch 34/100\n",
      "50000/50000 [==============================] - 25s 503us/step - loss: 0.1791 - acc: 0.9376 - val_loss: 3.0966 - val_acc: 0.5184\n",
      "Epoch 35/100\n",
      "50000/50000 [==============================] - 25s 504us/step - loss: 0.1703 - acc: 0.9416 - val_loss: 3.0196 - val_acc: 0.5273\n",
      "Epoch 36/100\n",
      "50000/50000 [==============================] - 25s 506us/step - loss: 0.1694 - acc: 0.9421 - val_loss: 3.0523 - val_acc: 0.5269\n",
      "Epoch 37/100\n",
      "50000/50000 [==============================] - 25s 506us/step - loss: 0.1742 - acc: 0.9398 - val_loss: 3.1191 - val_acc: 0.5278\n",
      "Epoch 38/100\n",
      "50000/50000 [==============================] - 25s 505us/step - loss: 0.1483 - acc: 0.9493 - val_loss: 3.2042 - val_acc: 0.5247\n",
      "Epoch 39/100\n",
      "50000/50000 [==============================] - 26s 514us/step - loss: 0.1673 - acc: 0.9427 - val_loss: 3.0578 - val_acc: 0.5296\n",
      "Epoch 40/100\n",
      "50000/50000 [==============================] - 25s 506us/step - loss: 0.1373 - acc: 0.9530 - val_loss: 3.2584 - val_acc: 0.5222\n",
      "Epoch 41/100\n",
      "50000/50000 [==============================] - 26s 513us/step - loss: 0.1415 - acc: 0.9523 - val_loss: 3.2761 - val_acc: 0.5290\n",
      "Epoch 42/100\n",
      "50000/50000 [==============================] - 25s 508us/step - loss: 0.1384 - acc: 0.9533 - val_loss: 3.2155 - val_acc: 0.5267\n",
      "Epoch 43/100\n",
      "50000/50000 [==============================] - 25s 507us/step - loss: 0.1402 - acc: 0.9531 - val_loss: 3.1887 - val_acc: 0.5295\n",
      "Epoch 44/100\n",
      "50000/50000 [==============================] - 25s 506us/step - loss: 0.1461 - acc: 0.9506 - val_loss: 3.3398 - val_acc: 0.5350\n",
      "Epoch 45/100\n",
      "50000/50000 [==============================] - 26s 511us/step - loss: 0.1385 - acc: 0.9528 - val_loss: 3.4988 - val_acc: 0.5258\n",
      "Epoch 46/100\n",
      "50000/50000 [==============================] - 25s 510us/step - loss: 0.1232 - acc: 0.9578 - val_loss: 3.4225 - val_acc: 0.5252\n",
      "Epoch 47/100\n",
      "50000/50000 [==============================] - 25s 507us/step - loss: 0.1286 - acc: 0.9575 - val_loss: 3.4162 - val_acc: 0.5280\n",
      "Epoch 48/100\n",
      "50000/50000 [==============================] - 25s 509us/step - loss: 0.1134 - acc: 0.9621 - val_loss: 3.5732 - val_acc: 0.5300\n",
      "Epoch 49/100\n",
      "50000/50000 [==============================] - 26s 510us/step - loss: 0.1394 - acc: 0.9535 - val_loss: 3.4181 - val_acc: 0.5250\n",
      "Epoch 50/100\n",
      "50000/50000 [==============================] - 26s 510us/step - loss: 0.1191 - acc: 0.9607 - val_loss: 3.4601 - val_acc: 0.5241\n",
      "Epoch 51/100\n",
      "50000/50000 [==============================] - 25s 501us/step - loss: 0.1197 - acc: 0.9589 - val_loss: 3.4205 - val_acc: 0.5307\n",
      "Epoch 52/100\n",
      "50000/50000 [==============================] - 25s 500us/step - loss: 0.1186 - acc: 0.9593 - val_loss: 3.5730 - val_acc: 0.5261\n",
      "Epoch 53/100\n",
      "50000/50000 [==============================] - 26s 516us/step - loss: 0.1165 - acc: 0.9599 - val_loss: 3.4471 - val_acc: 0.5337\n",
      "Epoch 54/100\n",
      "50000/50000 [==============================] - 26s 513us/step - loss: 0.1121 - acc: 0.9616 - val_loss: 3.6044 - val_acc: 0.5293\n",
      "Epoch 55/100\n",
      "50000/50000 [==============================] - 26s 519us/step - loss: 0.1160 - acc: 0.9605 - val_loss: 3.4918 - val_acc: 0.5263\n",
      "Epoch 56/100\n",
      "50000/50000 [==============================] - 26s 512us/step - loss: 0.1056 - acc: 0.9647 - val_loss: 3.5094 - val_acc: 0.5271\n"
     ]
    },
    {
     "name": "stdout",
     "output_type": "stream",
     "text": [
      "Epoch 57/100\n",
      "50000/50000 [==============================] - 24s 488us/step - loss: 0.1046 - acc: 0.9660 - val_loss: 3.5263 - val_acc: 0.5277\n",
      "Epoch 58/100\n",
      "50000/50000 [==============================] - 24s 489us/step - loss: 0.1170 - acc: 0.9604 - val_loss: 3.5683 - val_acc: 0.5318\n",
      "Epoch 59/100\n",
      "50000/50000 [==============================] - 24s 488us/step - loss: 0.1055 - acc: 0.9645 - val_loss: 3.6325 - val_acc: 0.5265\n",
      "Epoch 60/100\n",
      "50000/50000 [==============================] - 25s 492us/step - loss: 0.1014 - acc: 0.9679 - val_loss: 3.5944 - val_acc: 0.5298\n",
      "Epoch 61/100\n",
      "50000/50000 [==============================] - 24s 489us/step - loss: 0.0992 - acc: 0.9674 - val_loss: 3.5811 - val_acc: 0.5270\n",
      "Epoch 62/100\n",
      "50000/50000 [==============================] - 24s 490us/step - loss: 0.0925 - acc: 0.9695 - val_loss: 3.7093 - val_acc: 0.5261\n",
      "Epoch 63/100\n",
      "50000/50000 [==============================] - 24s 490us/step - loss: 0.1131 - acc: 0.9618 - val_loss: 3.5393 - val_acc: 0.5194\n",
      "Epoch 64/100\n",
      "50000/50000 [==============================] - 25s 493us/step - loss: 0.1098 - acc: 0.9642 - val_loss: 3.6197 - val_acc: 0.5332\n",
      "Epoch 65/100\n",
      "50000/50000 [==============================] - 25s 492us/step - loss: 0.0964 - acc: 0.9678 - val_loss: 3.6625 - val_acc: 0.5265\n",
      "Epoch 66/100\n",
      "50000/50000 [==============================] - 25s 491us/step - loss: 0.0960 - acc: 0.9687 - val_loss: 3.6561 - val_acc: 0.5304\n",
      "Epoch 67/100\n",
      "50000/50000 [==============================] - 25s 491us/step - loss: 0.0881 - acc: 0.9711 - val_loss: 3.6680 - val_acc: 0.5323\n",
      "Epoch 68/100\n",
      "50000/50000 [==============================] - 25s 491us/step - loss: 0.0892 - acc: 0.9706 - val_loss: 3.7245 - val_acc: 0.5318\n",
      "Epoch 69/100\n",
      "50000/50000 [==============================] - 25s 492us/step - loss: 0.1078 - acc: 0.9646 - val_loss: 3.6403 - val_acc: 0.5359\n",
      "Epoch 70/100\n",
      "50000/50000 [==============================] - 25s 493us/step - loss: 0.0879 - acc: 0.9713 - val_loss: 3.6756 - val_acc: 0.5281\n",
      "Epoch 71/100\n",
      "50000/50000 [==============================] - 25s 492us/step - loss: 0.0793 - acc: 0.9737 - val_loss: 3.7146 - val_acc: 0.5295\n",
      "Epoch 72/100\n",
      "50000/50000 [==============================] - 25s 492us/step - loss: 0.0838 - acc: 0.9726 - val_loss: 3.7166 - val_acc: 0.5257\n",
      "Epoch 73/100\n",
      "50000/50000 [==============================] - 25s 492us/step - loss: 0.0866 - acc: 0.9713 - val_loss: 3.7568 - val_acc: 0.5278\n",
      "Epoch 74/100\n",
      "50000/50000 [==============================] - 25s 497us/step - loss: 0.0887 - acc: 0.9703 - val_loss: 3.6926 - val_acc: 0.5342\n",
      "Epoch 75/100\n",
      "50000/50000 [==============================] - 25s 495us/step - loss: 0.0841 - acc: 0.9720 - val_loss: 3.7353 - val_acc: 0.5319\n",
      "Epoch 76/100\n",
      "50000/50000 [==============================] - 25s 492us/step - loss: 0.0961 - acc: 0.9689 - val_loss: 3.7328 - val_acc: 0.5263\n",
      "Epoch 77/100\n",
      "50000/50000 [==============================] - 25s 494us/step - loss: 0.0768 - acc: 0.9750 - val_loss: 3.8188 - val_acc: 0.5267\n",
      "Epoch 78/100\n",
      "50000/50000 [==============================] - 26s 511us/step - loss: 0.0876 - acc: 0.9710 - val_loss: 3.7766 - val_acc: 0.5316\n",
      "Epoch 79/100\n",
      "50000/50000 [==============================] - 25s 496us/step - loss: 0.0687 - acc: 0.9779 - val_loss: 3.8578 - val_acc: 0.5335\n",
      "Epoch 80/100\n",
      "50000/50000 [==============================] - 26s 521us/step - loss: 0.0983 - acc: 0.9690 - val_loss: 3.7212 - val_acc: 0.5220\n",
      "Epoch 81/100\n",
      "50000/50000 [==============================] - 26s 525us/step - loss: 0.0700 - acc: 0.9769 - val_loss: 3.8236 - val_acc: 0.5280\n",
      "Epoch 82/100\n",
      "50000/50000 [==============================] - 25s 503us/step - loss: 0.0860 - acc: 0.9722 - val_loss: 3.7899 - val_acc: 0.5249\n",
      "Epoch 83/100\n",
      "50000/50000 [==============================] - 25s 502us/step - loss: 0.0790 - acc: 0.9746 - val_loss: 3.8121 - val_acc: 0.5313\n",
      "Epoch 84/100\n",
      "50000/50000 [==============================] - 25s 507us/step - loss: 0.0783 - acc: 0.9746 - val_loss: 3.9061 - val_acc: 0.5263\n",
      "Epoch 85/100\n",
      "50000/50000 [==============================] - 25s 500us/step - loss: 0.0972 - acc: 0.9691 - val_loss: 3.8266 - val_acc: 0.5255\n",
      "Epoch 86/100\n",
      "50000/50000 [==============================] - 25s 500us/step - loss: 0.0640 - acc: 0.9791 - val_loss: 3.8537 - val_acc: 0.5222\n",
      "Epoch 87/100\n",
      "50000/50000 [==============================] - 25s 502us/step - loss: 0.0850 - acc: 0.9719 - val_loss: 3.7855 - val_acc: 0.5279\n",
      "Epoch 88/100\n",
      "50000/50000 [==============================] - 28s 566us/step - loss: 0.0623 - acc: 0.9795 - val_loss: 4.0658 - val_acc: 0.5348\n",
      "Epoch 89/100\n",
      "50000/50000 [==============================] - 26s 519us/step - loss: 0.0775 - acc: 0.9749 - val_loss: 3.9029 - val_acc: 0.5346\n",
      "Epoch 90/100\n",
      "50000/50000 [==============================] - 31s 616us/step - loss: 0.0807 - acc: 0.9743 - val_loss: 3.8704 - val_acc: 0.5285\n",
      "Epoch 91/100\n",
      "50000/50000 [==============================] - 32s 640us/step - loss: 0.0689 - acc: 0.9772 - val_loss: 3.9804 - val_acc: 0.5289\n",
      "Epoch 92/100\n",
      "50000/50000 [==============================] - 38s 753us/step - loss: 0.0729 - acc: 0.9766 - val_loss: 3.8473 - val_acc: 0.5285\n",
      "Epoch 93/100\n",
      "50000/50000 [==============================] - 28s 561us/step - loss: 0.0748 - acc: 0.9757 - val_loss: 3.7752 - val_acc: 0.5360\n",
      "Epoch 94/100\n",
      "50000/50000 [==============================] - 31s 620us/step - loss: 0.0803 - acc: 0.9749 - val_loss: 3.7261 - val_acc: 0.5308\n",
      "Epoch 95/100\n",
      "50000/50000 [==============================] - 35s 706us/step - loss: 0.0613 - acc: 0.9800 - val_loss: 3.9905 - val_acc: 0.5276\n",
      "Epoch 96/100\n",
      "50000/50000 [==============================] - 35s 691us/step - loss: 0.0697 - acc: 0.9775 - val_loss: 3.9211 - val_acc: 0.5287\n",
      "Epoch 97/100\n",
      "50000/50000 [==============================] - 34s 671us/step - loss: 0.0686 - acc: 0.9779 - val_loss: 3.8490 - val_acc: 0.5305\n",
      "Epoch 98/100\n",
      "50000/50000 [==============================] - 29s 587us/step - loss: 0.0661 - acc: 0.9790 - val_loss: 3.9216 - val_acc: 0.5284\n",
      "Epoch 99/100\n",
      "50000/50000 [==============================] - 33s 656us/step - loss: 0.0578 - acc: 0.9816 - val_loss: 4.0694 - val_acc: 0.5240\n",
      "Epoch 100/100\n",
      "50000/50000 [==============================] - 32s 641us/step - loss: 0.0896 - acc: 0.9712 - val_loss: 3.7210 - val_acc: 0.5270\n"
     ]
    },
    {
     "data": {
      "text/plain": [
       "<keras.callbacks.History at 0x23cdaecec18>"
      ]
     },
     "execution_count": 12,
     "metadata": {},
     "output_type": "execute_result"
    }
   ],
   "source": [
    "model.fit(x_train, y_train, \n",
    "          epochs=EPOCHS, \n",
    "          batch_size=BATCH_SIZE, \n",
    "          validation_data=(x_test, y_test), \n",
    "          shuffle=True)"
   ]
  },
  {
   "cell_type": "code",
   "execution_count": 14,
   "metadata": {},
   "outputs": [
    {
     "data": {
      "image/png": "[encoded data removed]",
      "text/plain": [
       "<Figure size 432x288 with 1 Axes>"
      ]
     },
     "metadata": {
      "needs_background": "light"
     },
     "output_type": "display_data"
    },
    {
     "data": {
      "image/png": "[encoded data removed]",
      "text/plain": [
       "<Figure size 432x288 with 1 Axes>"
      ]
     },
     "metadata": {
      "needs_background": "light"
     },
     "output_type": "display_data"
    }
   ],
   "source": [
    "import matplotlib.pyplot as plt\n",
    "\n",
    "\n",
    "train_loss = model.history.history[\"loss\"]\n",
    "valid_loss = model.history.history[\"val_loss\"]\n",
    "\n",
    "train_acc = model.history.history[\"acc\"]\n",
    "valid_acc = model.history.history[\"val_acc\"]\n",
    "\n",
    "plt.plot(range(len(train_loss)), train_loss, label=\"train loss\")\n",
    "plt.plot(range(len(valid_loss)), valid_loss, label=\"valid loss\")\n",
    "plt.legend()\n",
    "plt.title(\"Loss\")\n",
    "plt.show()\n",
    "\n",
    "plt.plot(range(len(train_acc)), train_acc, label=\"train accuracy\")\n",
    "plt.plot(range(len(valid_acc)), valid_acc, label=\"valid accuracy\")\n",
    "plt.legend()\n",
    "plt.title(\"Accuracy\")\n",
    "plt.show()"
   ]
  },
  {
   "cell_type": "code",
   "execution_count": null,
   "metadata": {},
   "outputs": [],
   "source": []
  }
 ],
 "metadata": {
  "kernelspec": {
   "display_name": "Python 3",
   "language": "python",
   "name": "python3"
  },
  "language_info": {
   "codemirror_mode": {
    "name": "ipython",
    "version": 3
   },
   "file_extension": ".py",
   "mimetype": "text/x-python",
   "name": "python",
   "nbconvert_exporter": "python",
   "pygments_lexer": "ipython3",
   "version": "3.6.8"
  }
 },
 "nbformat": 4,
 "nbformat_minor": 2
}
