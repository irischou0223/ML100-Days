{
 "cells": [
  {
   "cell_type": "markdown",
   "metadata": {},
   "source": [
    "## Work\n",
    "1. 試比較 save_best_only 與否的差異\n",
    "2. 請僅存入將 save_weights_only 設定為 True, 並嘗試 reset ipynb 並將模型與權重重新建回並預測 x_test"
   ]
  },
  {
   "cell_type": "code",
   "execution_count": 1,
   "metadata": {},
   "outputs": [
    {
     "name": "stderr",
     "output_type": "stream",
     "text": [
      "Using TensorFlow backend.\n"
     ]
    }
   ],
   "source": [
    "import os\n",
    "import keras\n",
    "import itertools\n",
    "# Disable GPU\n",
    "os.environ[\"CUDA_VISIBLE_DEVICES\"] = \"\"\n",
    "\n",
    "import tensorflow as tf\n",
    "from keras.backend.tensorflow_backend import set_session\n",
    "config = tf.ConfigProto()\n",
    "config.gpu_options.allow_growth = True\n",
    "sess = tf.Session(config=config)\n",
    "set_session(sess) "
   ]
  },
  {
   "cell_type": "code",
   "execution_count": 2,
   "metadata": {},
   "outputs": [],
   "source": [
    "train, test = keras.datasets.cifar10.load_data()"
   ]
  },
  {
   "cell_type": "code",
   "execution_count": 3,
   "metadata": {},
   "outputs": [],
   "source": [
    "## 資料前處理\n",
    "def preproc_x(x, flatten=True):\n",
    "    x = x / 255.\n",
    "    if flatten:\n",
    "        x = x.reshape((len(x), -1))\n",
    "    return x\n",
    "\n",
    "def preproc_y(y, num_classes=10):\n",
    "    if y.shape[-1] == 1:\n",
    "        y = keras.utils.to_categorical(y, num_classes)\n",
    "    return y    "
   ]
  },
  {
   "cell_type": "code",
   "execution_count": 4,
   "metadata": {},
   "outputs": [],
   "source": [
    "x_train, y_train = train\n",
    "x_test, y_test = test\n",
    "\n",
    "# Preproc the inputs\n",
    "x_train = preproc_x(x_train)\n",
    "x_test = preproc_x(x_test)\n",
    "\n",
    "# Preprc the outputs\n",
    "y_train = preproc_y(y_train)\n",
    "y_test = preproc_y(y_test)"
   ]
  },
  {
   "cell_type": "code",
   "execution_count": 5,
   "metadata": {},
   "outputs": [],
   "source": [
    "from keras.layers import BatchNormalization\n",
    "def build_mlp(input_shape, output_units=10, num_neurons=[512, 256, 128]):\n",
    "    input_layer = keras.layers.Input(input_shape)\n",
    "    \n",
    "    for i, n_units in enumerate(num_neurons):\n",
    "        if i == 0:\n",
    "            x = keras.layers.Dense(units=n_units, \n",
    "                                   activation=\"relu\", \n",
    "                                   name=\"hidden_layer\"+str(i+1))(input_layer)\n",
    "            x = BatchNormalization()(x)\n",
    "        else:\n",
    "            x = keras.layers.Dense(units=n_units, \n",
    "                                   activation=\"relu\", \n",
    "                                   name=\"hidden_layer\"+str(i+1))(x)\n",
    "            x = BatchNormalization()(x)\n",
    "    \n",
    "    out = keras.layers.Dense(units=output_units, activation=\"softmax\", name=\"output\")(x)\n",
    "    \n",
    "    model = keras.models.Model(inputs=[input_layer], outputs=[out])\n",
    "    return model"
   ]
  },
  {
   "cell_type": "code",
   "execution_count": 6,
   "metadata": {},
   "outputs": [],
   "source": [
    "## 超參數設定\n",
    "LEARNING_RATE = 1e-3\n",
    "EPOCHS = 50\n",
    "BATCH_SIZE = 1024\n",
    "MOMENTUM = 0.95"
   ]
  },
  {
   "cell_type": "code",
   "execution_count": 7,
   "metadata": {},
   "outputs": [],
   "source": [
    "# 載入 Callbacks\n",
    "from keras.callbacks import ModelCheckpoint\n",
    "\n",
    "model_ckpt = ModelCheckpoint(filepath=\"./tmp.h5\", \n",
    "                             monitor=\"val_loss\", \n",
    "                             save_best_only=True)"
   ]
  },
  {
   "cell_type": "code",
   "execution_count": 8,
   "metadata": {
    "scrolled": true
   },
   "outputs": [
    {
     "name": "stdout",
     "output_type": "stream",
     "text": [
      "WARNING:tensorflow:From D:\\Install_Software\\anaconda3\\lib\\site-packages\\tensorflow\\python\\framework\\op_def_library.py:263: colocate_with (from tensorflow.python.framework.ops) is deprecated and will be removed in a future version.\n",
      "Instructions for updating:\n",
      "Colocations handled automatically by placer.\n",
      "_________________________________________________________________\n",
      "Layer (type)                 Output Shape              Param #   \n",
      "=================================================================\n",
      "input_1 (InputLayer)         (None, 3072)              0         \n",
      "_________________________________________________________________\n",
      "hidden_layer1 (Dense)        (None, 512)               1573376   \n",
      "_________________________________________________________________\n",
      "batch_normalization_1 (Batch (None, 512)               2048      \n",
      "_________________________________________________________________\n",
      "hidden_layer2 (Dense)        (None, 256)               131328    \n",
      "_________________________________________________________________\n",
      "batch_normalization_2 (Batch (None, 256)               1024      \n",
      "_________________________________________________________________\n",
      "hidden_layer3 (Dense)        (None, 128)               32896     \n",
      "_________________________________________________________________\n",
      "batch_normalization_3 (Batch (None, 128)               512       \n",
      "_________________________________________________________________\n",
      "output (Dense)               (None, 10)                1290      \n",
      "=================================================================\n",
      "Total params: 1,742,474\n",
      "Trainable params: 1,740,682\n",
      "Non-trainable params: 1,792\n",
      "_________________________________________________________________\n",
      "WARNING:tensorflow:From D:\\Install_Software\\anaconda3\\lib\\site-packages\\tensorflow\\python\\ops\\math_ops.py:3066: to_int32 (from tensorflow.python.ops.math_ops) is deprecated and will be removed in a future version.\n",
      "Instructions for updating:\n",
      "Use tf.cast instead.\n",
      "Train on 50000 samples, validate on 10000 samples\n",
      "Epoch 1/50\n",
      "50000/50000 [==============================] - 8s 154us/step - loss: 2.1847 - acc: 0.2769 - val_loss: 2.0923 - val_acc: 0.3224\n",
      "Epoch 2/50\n",
      "50000/50000 [==============================] - 6s 120us/step - loss: 1.7311 - acc: 0.3988 - val_loss: 1.7856 - val_acc: 0.3871\n",
      "Epoch 3/50\n",
      "50000/50000 [==============================] - 6s 119us/step - loss: 1.6051 - acc: 0.4405 - val_loss: 1.6859 - val_acc: 0.4139\n",
      "Epoch 4/50\n",
      "50000/50000 [==============================] - 6s 118us/step - loss: 1.5334 - acc: 0.4669 - val_loss: 1.6313 - val_acc: 0.4265\n",
      "Epoch 5/50\n",
      "50000/50000 [==============================] - 6s 122us/step - loss: 1.4769 - acc: 0.4841 - val_loss: 1.5790 - val_acc: 0.4458\n",
      "Epoch 6/50\n",
      "50000/50000 [==============================] - 6s 120us/step - loss: 1.4286 - acc: 0.5013 - val_loss: 1.5662 - val_acc: 0.4502\n",
      "Epoch 7/50\n",
      "50000/50000 [==============================] - 6s 119us/step - loss: 1.3895 - acc: 0.5151 - val_loss: 1.5469 - val_acc: 0.4508\n",
      "Epoch 8/50\n",
      "50000/50000 [==============================] - 6s 119us/step - loss: 1.3551 - acc: 0.5292 - val_loss: 1.5327 - val_acc: 0.4551\n",
      "Epoch 9/50\n",
      "50000/50000 [==============================] - 6s 117us/step - loss: 1.3216 - acc: 0.5409 - val_loss: 1.5113 - val_acc: 0.4674\n",
      "Epoch 10/50\n",
      "50000/50000 [==============================] - 6s 119us/step - loss: 1.2908 - acc: 0.5522 - val_loss: 1.5069 - val_acc: 0.4678\n",
      "Epoch 11/50\n",
      "50000/50000 [==============================] - 6s 117us/step - loss: 1.2638 - acc: 0.5625 - val_loss: 1.4930 - val_acc: 0.4744\n",
      "Epoch 12/50\n",
      "50000/50000 [==============================] - 6s 118us/step - loss: 1.2359 - acc: 0.5719 - val_loss: 1.4859 - val_acc: 0.4765\n",
      "Epoch 13/50\n",
      "50000/50000 [==============================] - 6s 122us/step - loss: 1.2096 - acc: 0.5831 - val_loss: 1.4813 - val_acc: 0.4808\n",
      "Epoch 14/50\n",
      "50000/50000 [==============================] - 6s 115us/step - loss: 1.1866 - acc: 0.5909 - val_loss: 1.4699 - val_acc: 0.4852\n",
      "Epoch 15/50\n",
      "50000/50000 [==============================] - 6s 117us/step - loss: 1.1629 - acc: 0.5995 - val_loss: 1.4653 - val_acc: 0.4856\n",
      "Epoch 16/50\n",
      "50000/50000 [==============================] - 6s 116us/step - loss: 1.1385 - acc: 0.6082 - val_loss: 1.4606 - val_acc: 0.4838\n",
      "Epoch 17/50\n",
      "50000/50000 [==============================] - 6s 118us/step - loss: 1.1158 - acc: 0.6162 - val_loss: 1.4664 - val_acc: 0.4848\n",
      "Epoch 18/50\n",
      "50000/50000 [==============================] - 6s 118us/step - loss: 1.0945 - acc: 0.6252 - val_loss: 1.4588 - val_acc: 0.4870\n",
      "Epoch 19/50\n",
      "50000/50000 [==============================] - 6s 118us/step - loss: 1.0722 - acc: 0.6334 - val_loss: 1.4513 - val_acc: 0.4857\n",
      "Epoch 20/50\n",
      "50000/50000 [==============================] - 6s 116us/step - loss: 1.0506 - acc: 0.6429 - val_loss: 1.4613 - val_acc: 0.4918\n",
      "Epoch 21/50\n",
      "50000/50000 [==============================] - 6s 116us/step - loss: 1.0287 - acc: 0.6505 - val_loss: 1.4545 - val_acc: 0.4931\n",
      "Epoch 22/50\n",
      "50000/50000 [==============================] - 6s 120us/step - loss: 1.0082 - acc: 0.6581 - val_loss: 1.4550 - val_acc: 0.4912\n",
      "Epoch 23/50\n",
      "50000/50000 [==============================] - 6s 118us/step - loss: 0.9901 - acc: 0.6657 - val_loss: 1.4644 - val_acc: 0.4946\n",
      "Epoch 24/50\n",
      "50000/50000 [==============================] - 6s 117us/step - loss: 0.9686 - acc: 0.6733 - val_loss: 1.4620 - val_acc: 0.4968loss: 0.9693 - acc: 0.672 - ETA: 0s - loss: 0.9698 - acc: 0.672\n",
      "Epoch 25/50\n",
      "50000/50000 [==============================] - 6s 121us/step - loss: 0.9465 - acc: 0.6835 - val_loss: 1.4680 - val_acc: 0.4881\n",
      "Epoch 26/50\n",
      "50000/50000 [==============================] - 6s 121us/step - loss: 0.9277 - acc: 0.6900 - val_loss: 1.4672 - val_acc: 0.4927\n",
      "Epoch 27/50\n",
      "50000/50000 [==============================] - 6s 116us/step - loss: 0.9067 - acc: 0.6983 - val_loss: 1.4680 - val_acc: 0.4936\n",
      "Epoch 28/50\n",
      "50000/50000 [==============================] - 6s 116us/step - loss: 0.8882 - acc: 0.7073 - val_loss: 1.4680 - val_acc: 0.4948\n",
      "Epoch 29/50\n",
      "50000/50000 [==============================] - 6s 121us/step - loss: 0.8662 - acc: 0.7160 - val_loss: 1.4787 - val_acc: 0.4889\n",
      "Epoch 30/50\n",
      "50000/50000 [==============================] - 6s 120us/step - loss: 0.8485 - acc: 0.7222 - val_loss: 1.4754 - val_acc: 0.4924\n",
      "Epoch 31/50\n",
      "50000/50000 [==============================] - 6s 118us/step - loss: 0.8282 - acc: 0.7311 - val_loss: 1.5001 - val_acc: 0.4930\n",
      "Epoch 32/50\n",
      "50000/50000 [==============================] - 6s 122us/step - loss: 0.8081 - acc: 0.7379 - val_loss: 1.5024 - val_acc: 0.4917\n",
      "Epoch 33/50\n",
      "50000/50000 [==============================] - 6s 126us/step - loss: 0.7883 - acc: 0.7454 - val_loss: 1.5013 - val_acc: 0.4948\n",
      "Epoch 34/50\n",
      "50000/50000 [==============================] - 6s 121us/step - loss: 0.7699 - acc: 0.7531 - val_loss: 1.5097 - val_acc: 0.4917\n",
      "Epoch 35/50\n",
      "50000/50000 [==============================] - 6s 121us/step - loss: 0.7509 - acc: 0.7610 - val_loss: 1.5161 - val_acc: 0.4893\n",
      "Epoch 36/50\n",
      "50000/50000 [==============================] - 6s 121us/step - loss: 0.7321 - acc: 0.7693 - val_loss: 1.5186 - val_acc: 0.4980\n",
      "Epoch 37/50\n",
      "50000/50000 [==============================] - 6s 122us/step - loss: 0.7144 - acc: 0.7759 - val_loss: 1.5344 - val_acc: 0.4936\n",
      "Epoch 38/50\n",
      "50000/50000 [==============================] - 6s 121us/step - loss: 0.6978 - acc: 0.7813 - val_loss: 1.5351 - val_acc: 0.4983\n",
      "Epoch 39/50\n",
      "50000/50000 [==============================] - 6s 119us/step - loss: 0.6775 - acc: 0.7902 - val_loss: 1.5513 - val_acc: 0.4908\n",
      "Epoch 40/50\n",
      "50000/50000 [==============================] - 5s 107us/step - loss: 0.6584 - acc: 0.7997 - val_loss: 1.5751 - val_acc: 0.4872\n",
      "Epoch 41/50\n",
      "50000/50000 [==============================] - 4s 82us/step - loss: 0.6404 - acc: 0.8047 - val_loss: 1.5889 - val_acc: 0.4819\n",
      "Epoch 42/50\n",
      "50000/50000 [==============================] - 4s 85us/step - loss: 0.6252 - acc: 0.8128 - val_loss: 1.5740 - val_acc: 0.4916\n",
      "Epoch 43/50\n",
      "50000/50000 [==============================] - 6s 119us/step - loss: 0.6060 - acc: 0.8206 - val_loss: 1.5693 - val_acc: 0.4923\n",
      "Epoch 44/50\n",
      "50000/50000 [==============================] - 6s 119us/step - loss: 0.5879 - acc: 0.8270 - val_loss: 1.6202 - val_acc: 0.4912\n",
      "Epoch 45/50\n"
     ]
    },
    {
     "name": "stdout",
     "output_type": "stream",
     "text": [
      "50000/50000 [==============================] - 6s 118us/step - loss: 0.5718 - acc: 0.8328 - val_loss: 1.6133 - val_acc: 0.4846\n",
      "Epoch 46/50\n",
      "50000/50000 [==============================] - 6s 119us/step - loss: 0.5555 - acc: 0.8402 - val_loss: 1.6140 - val_acc: 0.4904\n",
      "Epoch 47/50\n",
      "50000/50000 [==============================] - 6s 119us/step - loss: 0.5372 - acc: 0.8479 - val_loss: 1.6734 - val_acc: 0.4827\n",
      "Epoch 48/50\n",
      "50000/50000 [==============================] - 6s 117us/step - loss: 0.5219 - acc: 0.8537 - val_loss: 1.6523 - val_acc: 0.4824\n",
      "Epoch 49/50\n",
      "50000/50000 [==============================] - 6s 121us/step - loss: 0.5067 - acc: 0.8580 - val_loss: 1.7054 - val_acc: 0.4781\n",
      "Epoch 50/50\n",
      "50000/50000 [==============================] - 6s 117us/step - loss: 0.4905 - acc: 0.8651 - val_loss: 1.6824 - val_acc: 0.4855\n"
     ]
    }
   ],
   "source": [
    "model = build_mlp(input_shape=x_train.shape[1:])\n",
    "model.summary()\n",
    "optimizer = keras.optimizers.SGD(lr=LEARNING_RATE, nesterov=True, momentum=MOMENTUM)\n",
    "model.compile(loss=\"categorical_crossentropy\", metrics=[\"accuracy\"], optimizer=optimizer)\n",
    "\n",
    "model.fit(x_train, y_train, \n",
    "          epochs=EPOCHS, \n",
    "          batch_size=BATCH_SIZE, \n",
    "          validation_data=(x_test, y_test), \n",
    "          shuffle=True,\n",
    "          callbacks=[model_ckpt]\n",
    "         )\n",
    "model.save(\"final_model.h5\")\n",
    "model.save_weights(\"model_weights.h5\")\n",
    "# Collect results\n",
    "train_loss = model.history.history[\"loss\"]\n",
    "valid_loss = model.history.history[\"val_loss\"]\n",
    "train_acc = model.history.history[\"acc\"]\n",
    "valid_acc = model.history.history[\"val_acc\"]\n",
    "\n",
    "pred_final = model.predict(x_test)\n",
    "# Load back\n",
    "model = keras.models.load_model(\"./tmp.h5\")\n",
    "pred_loadback = model.predict(x_test)"
   ]
  },
  {
   "cell_type": "code",
   "execution_count": 9,
   "metadata": {},
   "outputs": [
    {
     "name": "stdout",
     "output_type": "stream",
     "text": [
      "Accuracy of final weights: 0.485\n",
      "Accuracy of best weights: 0.486\n"
     ]
    }
   ],
   "source": [
    "from sklearn.metrics import accuracy_score\n",
    "\n",
    "final_model_acc = accuracy_score(y_true=y_test.argmax(axis=-1), y_pred=pred_final.argmax(axis=-1))\n",
    "loadback_acc = accuracy_score(y_true=y_test.argmax(axis=-1), y_pred=pred_loadback.argmax(axis=-1))\n",
    "\n",
    "print(\"Accuracy of final weights: %.3f\" % final_model_acc)\n",
    "print(\"Accuracy of best weights: %.3f\" % loadback_acc)"
   ]
  },
  {
   "cell_type": "code",
   "execution_count": 10,
   "metadata": {},
   "outputs": [
    {
     "name": "stdout",
     "output_type": "stream",
     "text": [
      "Accuracy of best weights: 0.111\n",
      "Accuracy of best weights: 0.485\n"
     ]
    }
   ],
   "source": [
    "new_model = build_mlp(input_shape=x_train.shape[1:])\n",
    "new_model_pred = new_model.predict(x_test)\n",
    "new_model_acc = accuracy_score(y_true=y_test.argmax(axis=-1), y_pred=new_model_pred.argmax(axis=-1))\n",
    "print(\"Accuracy of best weights: %.3f\" % new_model_acc)\n",
    "\n",
    "new_model.load_weights(\"./model_weights.h5\")\n",
    "new_model_pred = new_model.predict(x_test)\n",
    "new_model_loadback_acc = accuracy_score(y_true=y_test.argmax(axis=-1), y_pred=new_model_pred.argmax(axis=-1))\n",
    "print(\"Accuracy of best weights: %.3f\" % new_model_loadback_acc)"
   ]
  },
  {
   "cell_type": "code",
   "execution_count": null,
   "metadata": {},
   "outputs": [],
   "source": []
  }
 ],
 "metadata": {
  "anaconda-cloud": {},
  "kernelspec": {
   "display_name": "Python 3",
   "language": "python",
   "name": "python3"
  },
  "language_info": {
   "codemirror_mode": {
    "name": "ipython",
    "version": 3
   },
   "file_extension": ".py",
   "mimetype": "text/x-python",
   "name": "python",
   "nbconvert_exporter": "python",
   "pygments_lexer": "ipython3",
   "version": "3.6.8"
  }
 },
 "nbformat": 4,
 "nbformat_minor": 2
}
